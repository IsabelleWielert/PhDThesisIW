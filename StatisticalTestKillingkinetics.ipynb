{
 "cells": [
  {
   "cell_type": "code",
   "execution_count": null,
   "id": "af8964d5",
   "metadata": {},
   "outputs": [],
   "source": [
    "#packages you need for the statistical test\n",
    "from pandas import read_excel\n",
    "import numpy as np\n",
    "from combine_pvalues_discrete import CTR, combine\n",
    "from itertools import combinations\n",
    "from matplotlib.pyplot import subplots\n",
    "from math import isnan\n",
    "\n",
    "import numpy as np\n",
    "import matplotlib.pyplot as plt"
   ]
  },
  {
   "cell_type": "code",
   "execution_count": null,
   "id": "58a04d3b",
   "metadata": {},
   "outputs": [],
   "source": [
    "\n",
    "\n",
    "cases =[\"condition1\",\"condition2\"] #name of tabs of your Excel spreadsheet\n",
    "times = [3,6,9] #time points for which you evaluated the killing kinetics\n",
    "\n",
    "\n",
    "    # read in your file \n",
    "    data = {}\n",
    "    for case in cases:\n",
    "\n",
    "        raw_data = read_excel(r\"pathtoyourExcelspreadhseet.xlsx\",sheet_name=f\"{case}\").to_numpy()\n",
    "\n",
    "        for i in range(1,4): #range depends on how many time points you analysed\n",
    "            raw_datawonan = raw_data[~np.isnan(raw_data[:,i+1])]\n",
    "            data[case,3*i] = raw_datawonan[:,i+1] / np.nanmean(raw_data[:,1]) #determine the means\n",
    "\n",
    "#if you want to check your data \n",
    "print(data)\n",
    "\n",
    "# perform the statistical test \n",
    "or case_A, case_B in combinations(cases,r=2):\n",
    "    try:\n",
    "        \n",
    "        ctrs = [\n",
    "            CTR.mann_whitney_u(data[case_B,time],data[case_A,time],alternative=\"less\")\n",
    "            for time in times\n",
    "        ]\n",
    "    except NotImplementedError :\n",
    "        print(f\"Tie in {case_A} and {case_B}.\")\n",
    "     \n",
    "    weights=np.array([\n",
    "        len(data[case_B,time])+len(data[case_A,time]) \n",
    "        for time in times  \n",
    "    ])\n",
    " \n",
    "\n",
    "    p = combine(ctrs,method=\"mudholkar_george\",alternative=\"two-sided\",weights=weights).pvalue\n",
    "  \n",
    "    print(case_A,case_B,p)"
   ]
  }
 ],
 "metadata": {
  "kernelspec": {
   "display_name": "Python 3 (ipykernel)",
   "language": "python",
   "name": "python3"
  },
  "language_info": {
   "codemirror_mode": {
    "name": "ipython",
    "version": 3
   },
   "file_extension": ".py",
   "mimetype": "text/x-python",
   "name": "python",
   "nbconvert_exporter": "python",
   "pygments_lexer": "ipython3",
   "version": "3.9.18"
  }
 },
 "nbformat": 4,
 "nbformat_minor": 5
}
